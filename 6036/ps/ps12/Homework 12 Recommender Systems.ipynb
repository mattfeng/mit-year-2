{
 "cells": [
  {
   "cell_type": "markdown",
   "metadata": {
    "deletable": false,
    "editable": false,
    "run_control": {
     "frozen": true
    }
   },
   "source": [
    "## Some movies are more equal than others"
   ]
  },
  {
   "cell_type": "code",
   "execution_count": 1,
   "metadata": {},
   "outputs": [],
   "source": [
    "import numpy as np"
   ]
  },
  {
   "cell_type": "code",
   "execution_count": 2,
   "metadata": {},
   "outputs": [
    {
     "name": "stdout",
     "output_type": "stream",
     "text": [
      "With offsets [[ 0.22024566]\n",
      " [-0.22193986]] 0.0076238881829543415\n",
      "With no offsets [[0.50148126]\n",
      " [0.0562376 ]]\n",
      "ALS result for k = 2 : rmse train = [[0.00200034]] ; rmse validate = [[0.00200034]]\n",
      "SGD result for k = 2 : rmse train = [[3.64426549]] ; rmse validate = [[3.64426549]]\n"
     ]
    }
   ],
   "source": [
    "from hw12 import *"
   ]
  },
  {
   "cell_type": "code",
   "execution_count": 3,
   "metadata": {},
   "outputs": [],
   "source": [
    "Z = np.array([[1], [1], [5], [1], [5], [5], [1]])\n",
    "b_v = np.array([[3], [3], [3], [3], [3], [5], [1]])\n",
    "B = np.array([[1, 10], [1, 10], [10, 1], [1, 10], [10, 1], [5, 5], [5, 5]])"
   ]
  },
  {
   "cell_type": "code",
   "execution_count": 4,
   "metadata": {},
   "outputs": [
    {
     "data": {
      "text/plain": [
       "(array([[ 0.22024566],\n",
       "        [-0.22193986]]), 0.0076238881829543415)"
      ]
     },
     "execution_count": 4,
     "metadata": {},
     "output_type": "execute_result"
    }
   ],
   "source": [
    "u_a, b_u_a = ridge_analytic(B, (Z - b_v), 1)\n",
    "u_a, b_u_a\n",
    "# Solution with offsets, using ridge_analytic provided in code file\n",
    "# (array([[ 0.22024566],\n",
    "#         [-0.22193986]]),\n",
    "#  array([[ 0.00762389]]))"
   ]
  },
  {
   "cell_type": "code",
   "execution_count": 5,
   "metadata": {},
   "outputs": [
    {
     "data": {
      "text/plain": [
       "array([[0.50148126],\n",
       "       [0.0562376 ]])"
      ]
     },
     "execution_count": 5,
     "metadata": {},
     "output_type": "execute_result"
    }
   ],
   "source": [
    "u_a_no_b = np.dot(np.linalg.inv(np.dot(B.T, B) + 1 * np.identity(2)), np.dot(B.T, Z))\n",
    "u_a_no_b\n",
    "# Solution using previous model, with no offsets\n",
    "# array([[ 0.50148126],\n",
    "#        [ 0.0562376 ]])"
   ]
  },
  {
   "cell_type": "code",
   "execution_count": 6,
   "metadata": {},
   "outputs": [
    {
     "data": {
      "text/plain": [
       "1.9881406300000002"
      ]
     },
     "execution_count": 6,
     "metadata": {},
     "output_type": "execute_result"
    }
   ],
   "source": [
    "10 * 0.22024566 + 1 * -0.22193986 + 0.00762389"
   ]
  },
  {
   "cell_type": "code",
   "execution_count": 7,
   "metadata": {},
   "outputs": [
    {
     "data": {
      "text/plain": [
       "5.071050200000001"
      ]
     },
     "execution_count": 7,
     "metadata": {},
     "output_type": "execute_result"
    }
   ],
   "source": [
    "10 * 0.50148126 + 1 * 0.0562376"
   ]
  },
  {
   "cell_type": "code",
   "execution_count": 8,
   "metadata": {},
   "outputs": [
    {
     "data": {
      "text/plain": [
       "3.0084709500000004"
      ]
     },
     "execution_count": 8,
     "metadata": {},
     "output_type": "execute_result"
    }
   ],
   "source": [
    "1 * 0.22024566 + 10 * -0.22193986 + 0.00762389 + 5"
   ]
  },
  {
   "cell_type": "code",
   "execution_count": 9,
   "metadata": {},
   "outputs": [
    {
     "data": {
      "text/plain": [
       "1.06385726"
      ]
     },
     "execution_count": 9,
     "metadata": {},
     "output_type": "execute_result"
    }
   ],
   "source": [
    "1 * 0.50148126 + 10 * 0.0562376"
   ]
  },
  {
   "cell_type": "code",
   "execution_count": 68,
   "metadata": {},
   "outputs": [
    {
     "name": "stdout",
     "output_type": "stream",
     "text": [
      "Loading from ratings.csv users 13366 items 2000\n",
      "Iteration 1 finished. Total Elapsed Time: 5.91\n",
      "Iteration 2 finished. Total Elapsed Time: 11.34\n",
      "Iteration 3 finished. Total Elapsed Time: 16.94\n",
      "Iteration 4 finished. Total Elapsed Time: 22.27\n",
      "Iteration 5 finished. Total Elapsed Time: 27.72\n",
      "Iteration 6 finished. Total Elapsed Time: 33.49\n",
      "Iteration 7 finished. Total Elapsed Time: 39.11\n",
      "Iteration 8 finished. Total Elapsed Time: 44.15\n",
      "Iteration 9 finished. Total Elapsed Time: 49.23\n",
      "Iteration 10 finished. Total Elapsed Time: 54.31\n",
      "Iteration 11 finished. Total Elapsed Time: 59.40\n",
      "Iteration 12 finished. Total Elapsed Time: 64.67\n",
      "Iteration 13 finished. Total Elapsed Time: 70.21\n",
      "Iteration 14 finished. Total Elapsed Time: 75.31\n",
      "Iteration 15 finished. Total Elapsed Time: 80.23\n",
      "Iteration 16 finished. Total Elapsed Time: 85.25\n",
      "Iteration 17 finished. Total Elapsed Time: 90.13\n",
      "Iteration 18 finished. Total Elapsed Time: 95.27\n",
      "Iteration 19 finished. Total Elapsed Time: 100.26\n",
      "Iteration 20 finished. Total Elapsed Time: 105.39\n"
     ]
    }
   ],
   "source": [
    "data = load_ratings_data()\n",
    "movies_dict, genres_dict = load_movies()\n",
    "model = mf_als(data, None, k=10, lam=1, max_iter=20)\n",
    "save_model(model)\n",
    "# model = load_model()"
   ]
  },
  {
   "cell_type": "code",
   "execution_count": 11,
   "metadata": {},
   "outputs": [
    {
     "data": {
      "text/plain": [
       "13365"
      ]
     },
     "execution_count": 11,
     "metadata": {},
     "output_type": "execute_result"
    }
   ],
   "source": [
    "sorted(list(map(int, set(np.array(data)[:, 0])))).index(270894)"
   ]
  },
  {
   "cell_type": "code",
   "execution_count": 12,
   "metadata": {},
   "outputs": [
    {
     "data": {
      "text/plain": [
       "2000"
      ]
     },
     "execution_count": 12,
     "metadata": {},
     "output_type": "execute_result"
    }
   ],
   "source": [
    "len(genres_dict.keys())"
   ]
  },
  {
   "cell_type": "code",
   "execution_count": 13,
   "metadata": {},
   "outputs": [],
   "source": [
    "all_ratings = list(filter(lambda x: x[0] == 270894, data))"
   ]
  },
  {
   "cell_type": "code",
   "execution_count": 14,
   "metadata": {},
   "outputs": [],
   "source": [
    "from collections import Counter\n",
    "c = Counter()\n",
    "for user, movie, rating in all_ratings:\n",
    "    if rating == 5.0:\n",
    "        genres = genres_dict[movie]\n",
    "        for genre in genres:\n",
    "            c[genre] += 1"
   ]
  },
  {
   "cell_type": "code",
   "execution_count": 15,
   "metadata": {},
   "outputs": [
    {
     "data": {
      "text/plain": [
       "Counter({'Action': 20,\n",
       "         'Adventure': 46,\n",
       "         'Animation': 74,\n",
       "         'Children': 58,\n",
       "         'Comedy': 42,\n",
       "         'Crime': 6,\n",
       "         'Drama': 27,\n",
       "         'Fantasy': 31,\n",
       "         'Horror': 3,\n",
       "         'IMAX': 12,\n",
       "         'Musical': 23,\n",
       "         'Mystery': 4,\n",
       "         'Romance': 16,\n",
       "         'Sci-Fi': 15,\n",
       "         'Thriller': 8,\n",
       "         'War': 2})"
      ]
     },
     "execution_count": 15,
     "metadata": {},
     "output_type": "execute_result"
    }
   ],
   "source": [
    "c"
   ]
  },
  {
   "cell_type": "code",
   "execution_count": 16,
   "metadata": {},
   "outputs": [],
   "source": [
    "u, b_u, v, b_v = model"
   ]
  },
  {
   "cell_type": "code",
   "execution_count": 17,
   "metadata": {},
   "outputs": [
    {
     "data": {
      "text/plain": [
       "array([[ 0.53310525],\n",
       "       [ 0.64521269],\n",
       "       [ 1.13737098],\n",
       "       [ 0.86048265],\n",
       "       [-0.77917892],\n",
       "       [ 0.2059275 ],\n",
       "       [ 1.36139392],\n",
       "       [-0.3436632 ],\n",
       "       [-0.42036595],\n",
       "       [-0.63237646]])"
      ]
     },
     "execution_count": 17,
     "metadata": {},
     "output_type": "execute_result"
    }
   ],
   "source": [
    "u[13365]"
   ]
  },
  {
   "cell_type": "code",
   "execution_count": 18,
   "metadata": {},
   "outputs": [],
   "source": [
    "movie_ratings = []\n",
    "for i, movie in enumerate(v):\n",
    "    movie_ratings.append(np.dot(u[270894].T, movie) + b_u[270894] + b_v[i])"
   ]
  },
  {
   "cell_type": "code",
   "execution_count": 19,
   "metadata": {},
   "outputs": [],
   "source": [
    "ratings = []\n",
    "for i, movie in enumerate(movie_ratings):\n",
    "    ratings.append((i, np.asscalar(movie)))"
   ]
  },
  {
   "cell_type": "code",
   "execution_count": 20,
   "metadata": {},
   "outputs": [],
   "source": [
    "sorted_ratings = sorted(ratings, key=lambda x: x[1], reverse=True)"
   ]
  },
  {
   "cell_type": "code",
   "execution_count": 21,
   "metadata": {},
   "outputs": [],
   "source": [
    "top_movies = map(lambda x: x[0], sorted_ratings)"
   ]
  },
  {
   "cell_type": "code",
   "execution_count": 22,
   "metadata": {},
   "outputs": [],
   "source": [
    "real_top_movies = []\n",
    "for top in top_movies:\n",
    "    if top in movies_dict:\n",
    "        real_top_movies.append(top)"
   ]
  },
  {
   "cell_type": "code",
   "execution_count": 23,
   "metadata": {},
   "outputs": [
    {
     "data": {
      "text/plain": [
       "(166529, 270895)"
      ]
     },
     "execution_count": 23,
     "metadata": {},
     "output_type": "execute_result"
    }
   ],
   "source": [
    "len(v), len(u)"
   ]
  },
  {
   "cell_type": "code",
   "execution_count": 24,
   "metadata": {},
   "outputs": [
    {
     "name": "stdout",
     "output_type": "stream",
     "text": [
      "13\n"
     ]
    }
   ],
   "source": [
    "rated_movies = set(map(lambda x: x[1], all_ratings))\n",
    "count = 0\n",
    "for m in real_top_movies[:50]:\n",
    "    genres = genres_dict[m]\n",
    "    if 'Animation' in genres and m not in rated_movies:\n",
    "        count += 1\n",
    "print(count)"
   ]
  },
  {
   "cell_type": "code",
   "execution_count": 25,
   "metadata": {},
   "outputs": [
    {
     "data": {
      "text/plain": [
       "['Animation', 'Children', 'Comedy']"
      ]
     },
     "execution_count": 25,
     "metadata": {},
     "output_type": "execute_result"
    }
   ],
   "source": [
    "genres_dict[745]"
   ]
  },
  {
   "cell_type": "code",
   "execution_count": 74,
   "metadata": {},
   "outputs": [],
   "source": [
    "def most_similar_movies(movie_id):\n",
    "    similarities = []\n",
    "    for other_movie_id, features in enumerate(v):\n",
    "        if other_movie_id == movie_id:\n",
    "            continue\n",
    "        if other_movie_id not in movies_dict:\n",
    "            continue\n",
    "        similarity = np.asscalar(np.dot(v[movie_id].T, features) / np.linalg.norm(v[movie_id]) / np.linalg.norm(features))\n",
    "        similarities.append((other_movie_id, similarity))\n",
    "    return sorted(similarities, key=lambda x: x[1], reverse=True)"
   ]
  },
  {
   "cell_type": "code",
   "execution_count": 45,
   "metadata": {},
   "outputs": [
    {
     "data": {
      "text/plain": [
       "[1196, 1210, 1291, 1198, 122886, 166528, 480, 2414, 2115, 2628]"
      ]
     },
     "execution_count": 45,
     "metadata": {},
     "output_type": "execute_result"
    }
   ],
   "source": [
    "list(map(lambda x: x[0], most_similar_movies(260)[:10]))"
   ]
  },
  {
   "cell_type": "code",
   "execution_count": 75,
   "metadata": {},
   "outputs": [
    {
     "data": {
      "text/plain": [
       "[5378, 33493, 1027, 1210, 86, 122886, 110, 5952, 7153, 51662]"
      ]
     },
     "execution_count": 75,
     "metadata": {},
     "output_type": "execute_result"
    }
   ],
   "source": [
    "list(map(lambda x: x[0], most_similar_movies(2628)[:10]))"
   ]
  },
  {
   "cell_type": "code",
   "execution_count": 70,
   "metadata": {},
   "outputs": [
    {
     "name": "stdout",
     "output_type": "stream",
     "text": [
      "Star Wars: Episode II - Attack of the Clones (2002) 5378 0.9650331205405259\n",
      "Star Wars: Episode III - Revenge of the Sith (2005) 33493 0.9507111671419216\n",
      "Robin Hood: Prince of Thieves (1991) 1027 0.8105825590158939\n",
      "Star Wars: Episode VI - Return of the Jedi (1983) 1210 0.792485960984933\n",
      "White Squall (1996) 86 0.7769841747234759\n",
      "Star Wars: Episode VII - The Force Awakens (2015) 122886 0.7577302404552065\n",
      "Braveheart (1995) 110 0.7480259791240388\n",
      "\"Lord of the Rings: The Two Towers, The (2002)\" 5952 0.7440763075249501\n",
      "\"Lord of the Rings: The Return of the King, The (2003)\" 7153 0.7352507159630771\n",
      "300 (2007) 51662 0.7238528106736651\n"
     ]
    }
   ],
   "source": [
    "for m, s in most_similar_movies(2628)[:10]:\n",
    "    print(movies_dict[m], m, s)"
   ]
  },
  {
   "cell_type": "code",
   "execution_count": 69,
   "metadata": {},
   "outputs": [
    {
     "name": "stdout",
     "output_type": "stream",
     "text": [
      "Star Wars: Episode V - The Empire Strikes Back (1980) 1196 0.9944192698935015\n",
      "Star Wars: Episode VI - Return of the Jedi (1983) 1210 0.9629512279132393\n",
      "Indiana Jones and the Last Crusade (1989) 1291 0.8919338582521604\n",
      "Raiders of the Lost Ark (Indiana Jones and the Raiders of the Lost Ark) (1981) 1198 0.861313102178545\n",
      "Star Wars: Episode VII - The Force Awakens (2015) 122886 0.8528360607190725\n",
      "Rogue One: A Star Wars Story (2016) 166528 0.7564123473977342\n",
      "Jurassic Park (1993) 480 0.7406354405156786\n",
      "Young Sherlock Holmes (1985) 2414 0.7256168733918685\n",
      "Indiana Jones and the Temple of Doom (1984) 2115 0.7140374507269162\n",
      "Star Wars: Episode I - The Phantom Menace (1999) 2628 0.7132885063037011\n"
     ]
    }
   ],
   "source": [
    "for m, s in most_similar_movies(260)[:10]:\n",
    "    print(movies_dict[m], m, s)"
   ]
  },
  {
   "cell_type": "code",
   "execution_count": 40,
   "metadata": {},
   "outputs": [
    {
     "data": {
      "text/plain": [
       "[2303, 1883, 2118, 8949, 52, 2863, 562, 2599, 60950, 2759]"
      ]
     },
     "execution_count": 40,
     "metadata": {},
     "output_type": "execute_result"
    }
   ],
   "source": [
    "list(map(lambda x: x[0], most_similar_movies(2628)[-10:]))"
   ]
  },
  {
   "cell_type": "code",
   "execution_count": 82,
   "metadata": {},
   "outputs": [],
   "source": [
    "sim_sum = 0\n",
    "sim_cnt = 0\n",
    "for movie1 in movies_dict.keys():\n",
    "    for movie2 in movies_dict.keys():\n",
    "        if movie1 == movie2:\n",
    "            continue\n",
    "        similarity = np.asscalar(np.dot(v[movie1].T, v[movie2]) / np.linalg.norm(v[movie1]) / np.linalg.norm(v[movie2]))\n",
    "        sim_sum += similarity\n",
    "        sim_cnt += 1"
   ]
  },
  {
   "cell_type": "code",
   "execution_count": 83,
   "metadata": {},
   "outputs": [
    {
     "data": {
      "text/plain": [
       "0.0024403534965481387"
      ]
     },
     "execution_count": 83,
     "metadata": {},
     "output_type": "execute_result"
    }
   ],
   "source": [
    "np.mean(sim_sum / sim_cnt)"
   ]
  },
  {
   "cell_type": "code",
   "execution_count": 79,
   "metadata": {},
   "outputs": [
    {
     "data": {
      "text/plain": [
       "2000"
      ]
     },
     "execution_count": 79,
     "metadata": {},
     "output_type": "execute_result"
    }
   ],
   "source": [
    "len(movies_dict.keys())"
   ]
  },
  {
   "cell_type": "code",
   "execution_count": 85,
   "metadata": {},
   "outputs": [],
   "source": [
    "from collections import defaultdict\n",
    "movie_genres = defaultdict(list)\n",
    "for movie in movies_dict:\n",
    "    genres = genres_dict[movie]\n",
    "    for genre in genres:\n",
    "        movie_genres[genre].append(movie)"
   ]
  },
  {
   "cell_type": "code",
   "execution_count": 88,
   "metadata": {},
   "outputs": [
    {
     "name": "stdout",
     "output_type": "stream",
     "text": [
      "Adventure 0.07685861183679463\n",
      "Animation 0.32625652925321\n",
      "Children 0.2697289620582803\n",
      "Comedy 0.06444205000037817\n",
      "Fantasy 0.08992929956315779\n",
      "Romance 0.06777477960424376\n",
      "Drama 0.05902013563906724\n",
      "Action 0.12284295495599863\n",
      "Crime 0.05001755733335963\n",
      "Thriller 0.06354218925995296\n",
      "Horror 0.23624274707376675\n",
      "Mystery 0.05073690338449419\n",
      "Sci-Fi 0.13921973228743367\n",
      "War 0.137469084041903\n",
      "Musical 0.2932409088196969\n",
      "IMAX 0.27294038771762075\n",
      "Documentary 0.4196998123108044\n",
      "Western 0.15054916258906906\n",
      "Film-Noir 0.4471172819305044\n"
     ]
    }
   ],
   "source": [
    "for genre, movies in movie_genres.items():\n",
    "    sim_sum = 0\n",
    "    sim_cnt = 0\n",
    "    for movie1 in movies:\n",
    "        for movie2 in movies:\n",
    "            if movie1 == movie2:\n",
    "                continue\n",
    "            similarity = np.asscalar(np.dot(v[movie1].T, v[movie2]) / np.linalg.norm(v[movie1]) / np.linalg.norm(v[movie2]))\n",
    "            sim_sum += similarity\n",
    "            sim_cnt += 1\n",
    "    print(genre, sim_sum / sim_cnt)"
   ]
  },
  {
   "cell_type": "code",
   "execution_count": null,
   "metadata": {},
   "outputs": [],
   "source": []
  }
 ],
 "metadata": {
  "kernelspec": {
   "display_name": "deep",
   "language": "python",
   "name": "deep"
  },
  "language_info": {
   "codemirror_mode": {
    "name": "ipython",
    "version": 3
   },
   "file_extension": ".py",
   "mimetype": "text/x-python",
   "name": "python",
   "nbconvert_exporter": "python",
   "pygments_lexer": "ipython3",
   "version": "3.6.3"
  },
  "varInspector": {
   "cols": {
    "lenName": 16,
    "lenType": 16,
    "lenVar": 40
   },
   "kernels_config": {
    "python": {
     "delete_cmd_postfix": "",
     "delete_cmd_prefix": "del ",
     "library": "var_list.py",
     "varRefreshCmd": "print(var_dic_list())"
    },
    "r": {
     "delete_cmd_postfix": ") ",
     "delete_cmd_prefix": "rm(",
     "library": "var_list.r",
     "varRefreshCmd": "cat(var_dic_list()) "
    }
   },
   "types_to_exclude": [
    "module",
    "function",
    "builtin_function_or_method",
    "instance",
    "_Feature"
   ],
   "window_display": false
  }
 },
 "nbformat": 4,
 "nbformat_minor": 2
}
