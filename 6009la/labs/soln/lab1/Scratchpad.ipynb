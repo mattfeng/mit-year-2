{
 "cells": [
  {
   "cell_type": "code",
   "execution_count": 1,
   "metadata": {},
   "outputs": [],
   "source": [
    "kernel = [ 0.00, -0.07,  0.00,\n",
    "          -0.45,  1.20, -0.25,\n",
    "           0.00, -0.12,  0.00]"
   ]
  },
  {
   "cell_type": "code",
   "execution_count": 2,
   "metadata": {},
   "outputs": [],
   "source": [
    "image = [ 80,  53,  99,\n",
    "         129, 127, 148,\n",
    "         175, 174, 193]"
   ]
  },
  {
   "cell_type": "code",
   "execution_count": 3,
   "metadata": {},
   "outputs": [
    {
     "data": {
      "text/plain": [
       "32.760000000000005"
      ]
     },
     "execution_count": 3,
     "metadata": {},
     "output_type": "execute_result"
    }
   ],
   "source": [
    "import numpy as np\n",
    "sum(np.array(kernel) * np.array(image))"
   ]
  },
  {
   "cell_type": "code",
   "execution_count": 73,
   "metadata": {},
   "outputs": [],
   "source": [
    "k2 = [[0, 0, 0, 0, 0, 0, 0, 0, 0],\n",
    "      [0, 0, 0, 0, 0, 0, 0, 0, 0],\n",
    "      [1, 0, 0, 0, 0, 0, 0, 0, 0],\n",
    "      [0, 0, 0, 0, 0, 0, 0, 0, 0],\n",
    "      [0, 0, 0, 0, 0, 0, 0, 0, 0],\n",
    "      [0, 0, 0, 0, 0, 0, 0, 0, 0],\n",
    "      [0, 0, 0, 0, 0, 0, 0, 0, 0],\n",
    "      [0, 0, 0, 0, 0, 0, 0, 0, 0],\n",
    "      [0, 0, 0, 0, 0, 0, 0, 0, 0]]"
   ]
  },
  {
   "cell_type": "code",
   "execution_count": 69,
   "metadata": {},
   "outputs": [
    {
     "data": {
      "text/plain": [
       "<module 'lab' from '/Users/mattfeng/quetzalcoatl/sophomore/6009la/labs/lab1/lab.py'>"
      ]
     },
     "execution_count": 69,
     "metadata": {},
     "output_type": "execute_result"
    }
   ],
   "source": [
    "import lab\n",
    "import importlib\n",
    "importlib.reload(lab)"
   ]
  },
  {
   "cell_type": "code",
   "execution_count": 74,
   "metadata": {},
   "outputs": [],
   "source": [
    "im = lab.Image.load(\"test_images/pigbird.png\")\n",
    "# corr = im.correlate([0.1, 0.1, 0.1, 0.1, 0.2, 0.1, 0.1, 0.1, 0.1])\n",
    "corr = im.correlate(k2)\n",
    "out = lab.Image(im.width, im.height, corr)\n",
    "out.save(\"correlated_pigbird.png\")"
   ]
  },
  {
   "cell_type": "code",
   "execution_count": 70,
   "metadata": {},
   "outputs": [],
   "source": [
    "test = lab.Image(5, 5, [100, 0, 0, 0, 0,\n",
    "                        0, 0, 0, 0, 0,\n",
    "                        0, 0, 0, 0, 0,\n",
    "                        0, 0, 0, 0, 0,\n",
    "                        0, 100, 0, 0, 0])"
   ]
  },
  {
   "cell_type": "code",
   "execution_count": 71,
   "metadata": {},
   "outputs": [
    {
     "data": {
      "text/plain": [
       "array([[100, 100,   0,   0,   0],\n",
       "       [  0,   0,   0,   0,   0],\n",
       "       [  0,   0,   0,   0,   0],\n",
       "       [  0,   0,   0,   0,   0],\n",
       "       [  0,   0, 100,   0,   0]])"
      ]
     },
     "execution_count": 71,
     "metadata": {},
     "output_type": "execute_result"
    }
   ],
   "source": [
    "np.array(test.correlate([[0,  0,  0],\n",
    "                         [1,  0,  0],\n",
    "                         [0,  0,  0]])).reshape((5, 5))"
   ]
  },
  {
   "cell_type": "code",
   "execution_count": 75,
   "metadata": {},
   "outputs": [],
   "source": [
    "importlib.reload(lab)\n",
    "\n",
    "im = lab.Image.load(\"test_images/cat.png\")\n",
    "im.blurred(5).save(\"blurred_cat.png\")"
   ]
  },
  {
   "cell_type": "code",
   "execution_count": 76,
   "metadata": {},
   "outputs": [],
   "source": [
    "importlib.reload(lab)\n",
    "\n",
    "im = lab.Image.load(\"test_images/python.png\")\n",
    "im.sharpened(11).save(\"sharpened_python.png\")"
   ]
  },
  {
   "cell_type": "code",
   "execution_count": 79,
   "metadata": {},
   "outputs": [],
   "source": [
    "importlib.reload(lab)\n",
    "\n",
    "im = lab.Image.load(\"test_images/construct.png\")\n",
    "im.edges().save(\"edges_construct.png\")"
   ]
  },
  {
   "cell_type": "code",
   "execution_count": 80,
   "metadata": {},
   "outputs": [],
   "source": [
    "importlib.reload(lab)\n",
    "\n",
    "im = lab.Image.load(\"test_images/centered_pixel.png\")\n",
    "im.edges().save(\"edges_centered_pixel.png\")"
   ]
  },
  {
   "cell_type": "code",
   "execution_count": 84,
   "metadata": {},
   "outputs": [
    {
     "name": "stdout",
     "output_type": "stream",
     "text": [
      "{0: 11898, 1: 13729, 2: 13253, 3: 12135, 4: 13106, 5: 13527, 6: 12355, 7: 11414, 8: 10892, 9: 10893, 10: 11323, 11: 11264, 12: 11249, 13: 11481, 14: 11338, 15: 11719, 16: 11132, 17: 11378, 18: 10979, 19: 10421, 20: 10671, 21: 10742, 22: 12197, 23: 12499, 24: 13059, 25: 14184, 26: 14309, 27: 15318, 28: 15518, 29: 16048, 30: 16581, 31: 16507, 32: 15790, 33: 15473, 34: 15820, 35: 15583, 36: 14812, 37: 14462, 38: 16856, 39: 16078, 40: 15371, 41: 15607, 42: 14271, 43: 13429, 44: 14155, 45: 14223, 46: 14873, 47: 15202, 48: 15004, 49: 15311, 50: 16078, 51: 16456, 52: 15500, 53: 15350, 54: 14552, 55: 15076, 56: 14251, 57: 14073, 58: 14693, 59: 14880, 60: 12926, 61: 13321, 62: 14438, 63: 17078, 64: 17796, 65: 17433, 66: 16125, 67: 14983, 68: 14428, 69: 14610, 70: 14057, 71: 14067, 72: 14049, 73: 13751, 74: 15019, 75: 15550, 76: 15221, 77: 15098, 78: 15498, 79: 16108, 80: 15430, 81: 14590, 82: 14047, 83: 14208, 84: 15210, 85: 15252, 86: 14016, 87: 14287, 88: 14992, 89: 15125, 90: 15392, 91: 15039, 92: 14579, 93: 13783, 94: 14150, 95: 14720, 96: 16006, 97: 15694, 98: 16744, 99: 16124, 100: 17239, 101: 16446, 102: 15963, 103: 17909, 104: 16731, 105: 17014, 106: 17420, 107: 18053, 108: 16824, 109: 16688, 110: 16792, 111: 17603, 112: 19271, 113: 18611, 114: 18796, 115: 16610, 116: 17013, 117: 16533, 118: 16493, 119: 16612, 120: 15754, 121: 16740, 122: 16465, 123: 17959, 124: 19598, 125: 17117, 126: 17105, 127: 17992, 128: 20320, 129: 19880, 130: 19421, 131: 19206, 132: 17064, 133: 17914, 134: 19261, 135: 17753, 136: 17200, 137: 16067, 138: 15716, 139: 17825, 140: 19863, 141: 20942, 142: 22124, 143: 20727, 144: 20253, 145: 18795, 146: 18214, 147: 17936, 148: 19283, 149: 20745, 150: 19590, 151: 19967, 152: 20405, 153: 17718, 154: 18765, 155: 18754, 156: 18189, 157: 19142, 158: 19210, 159: 18913, 160: 18904, 161: 18752, 162: 18778, 163: 18723, 164: 19784, 165: 20599, 166: 19546, 167: 18707, 168: 19530, 169: 17952, 170: 18239, 171: 16357, 172: 16819, 173: 17269, 174: 17956, 175: 16470, 176: 16724, 177: 17441, 178: 19297, 179: 18667, 180: 17380, 181: 19821, 182: 19486, 183: 18329, 184: 17491, 185: 17328, 186: 17438, 187: 18050, 188: 18215, 189: 17339, 190: 18273, 191: 18739, 192: 18934, 193: 20494, 194: 20135, 195: 20614, 196: 19216, 197: 19301, 198: 19023, 199: 18366, 200: 18453, 201: 19178, 202: 18659, 203: 18250, 204: 18467, 205: 19671, 206: 20457, 207: 20129, 208: 20124, 209: 22302, 210: 21545, 211: 19196, 212: 16972, 213: 17096, 214: 17763, 215: 17934, 216: 17262, 217: 19279, 218: 18684, 219: 17120, 220: 16222, 221: 17277, 222: 21036, 223: 23983, 224: 20801, 225: 19299, 226: 18738, 227: 18264, 228: 18835, 229: 17448, 230: 18340, 231: 19736, 232: 19651, 233: 20380, 234: 21771, 235: 20174, 236: 20757, 237: 21988, 238: 19087, 239: 19828, 240: 19372, 241: 18903, 242: 18721, 243: 19627, 244: 19799, 245: 19362, 246: 19814, 247: 19685, 248: 19953, 249: 19395, 250: 19094, 251: 19602, 252: 20672, 253: 21358, 254: 22268, 255: 21689, 256: 20075, 257: 20921, 258: 21116, 259: 21992, 260: 22968, 261: 21995, 262: 22218, 263: 20390, 264: 19327, 265: 20102, 266: 20873, 267: 20183, 268: 21377, 269: 20755, 270: 21047, 271: 21375, 272: 19841, 273: 18640, 274: 18475, 275: 18773, 276: 21901, 277: 23703, 278: 24261, 279: 22374, 280: 21385, 281: 22025, 282: 21893, 283: 20967, 284: 21654, 285: 22078, 286: 22168, 287: 23790, 288: 21194, 289: 22314, 290: 24480, 291: 23787, 292: 22417, 293: 24173, 294: 20841, 295: 22352, 296: 21735, 297: 18348, 298: 16737, 299: 14696}\n"
     ]
    },
    {
     "data": {
      "text/plain": [
       "290"
      ]
     },
     "execution_count": 84,
     "metadata": {},
     "output_type": "execute_result"
    }
   ],
   "source": [
    "importlib.reload(lab)\n",
    "\n",
    "im = lab.Image.load(\"test_images/python.png\")\n",
    "print(im.compute_energy_map())\n",
    "im.max_energy_col()"
   ]
  },
  {
   "cell_type": "code",
   "execution_count": 90,
   "metadata": {},
   "outputs": [],
   "source": [
    "importlib.reload(lab)\n",
    "\n",
    "im = lab.Image.load(\"test_images/pattern.png\")\n",
    "im.seam_carve(2)\n",
    "im.save(\"seam_carved_pattern.png\")"
   ]
  },
  {
   "cell_type": "code",
   "execution_count": null,
   "metadata": {},
   "outputs": [],
   "source": []
  }
 ],
 "metadata": {
  "kernelspec": {
   "display_name": "deep",
   "language": "python",
   "name": "deep"
  },
  "language_info": {
   "codemirror_mode": {
    "name": "ipython",
    "version": 3
   },
   "file_extension": ".py",
   "mimetype": "text/x-python",
   "name": "python",
   "nbconvert_exporter": "python",
   "pygments_lexer": "ipython3",
   "version": "3.6.3"
  },
  "varInspector": {
   "cols": {
    "lenName": 16,
    "lenType": 16,
    "lenVar": 40
   },
   "kernels_config": {
    "python": {
     "delete_cmd_postfix": "",
     "delete_cmd_prefix": "del ",
     "library": "var_list.py",
     "varRefreshCmd": "print(var_dic_list())"
    },
    "r": {
     "delete_cmd_postfix": ") ",
     "delete_cmd_prefix": "rm(",
     "library": "var_list.r",
     "varRefreshCmd": "cat(var_dic_list()) "
    }
   },
   "types_to_exclude": [
    "module",
    "function",
    "builtin_function_or_method",
    "instance",
    "_Feature"
   ],
   "window_display": false
  }
 },
 "nbformat": 4,
 "nbformat_minor": 2
}
